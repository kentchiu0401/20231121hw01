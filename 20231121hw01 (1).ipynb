{
 "cells": [
  {
   "cell_type": "code",
   "execution_count": 16,
   "metadata": {
    "id": "qvjlfyVXWdAs",
    "scrolled": true
   },
   "outputs": [
    {
     "name": "stdout",
     "output_type": "stream",
     "text": [
      "請輸入公司代碼：（按Enter結束）2303\n",
      "請輸入公司代碼：（按Enter結束）2032\n",
      "請輸入公司代碼：（按Enter結束）\n"
     ]
    },
    {
     "data": {
      "text/plain": [
       "['2303', '2032']"
      ]
     },
     "execution_count": 16,
     "metadata": {},
     "output_type": "execute_result"
    }
   ],
   "source": [
    "# 由使用者輸入任意數量的公司代碼\n",
    "\n",
    "cos = []\n",
    "\n",
    "while True:\n",
    "    co = input('請輸入公司代碼：（按Enter結束）')\n",
    "    if co == '':\n",
    "        break\n",
    "    else:\n",
    "        cos.append(co)\n",
    "\n",
    "cos"
   ]
  },
  {
   "cell_type": "code",
   "execution_count": 17,
   "metadata": {},
   "outputs": [],
   "source": [
    "from tools import get_soup"
   ]
  },
  {
   "cell_type": "code",
   "execution_count": 28,
   "metadata": {
    "id": "4Oaazq45Xv6C",
    "scrolled": true
   },
   "outputs": [],
   "source": [
    "# 觀察輸入代碼並按查詢後，網址都不變，推測為API post method\n",
    "# 請由「開發者工具」觀察其api網址及form_data\n",
    "url='https://mops.twse.com.tw/mops/web/t05st10_ifrs'\n",
    "stk = co\n",
    "import requests\n",
    "\n",
    "def get_id_data(co_id):\n",
    "    api_url = 'https://mops.twse.com.tw/mops/web/ajax_t05st10_ifrs'\n",
    "    form_data = {'encodeURIComponent': '1',\n",
    "            'step': '1',\n",
    "            'firstin':'1',\n",
    "            'off': '1',\n",
    "            'keyword4':'' ,\n",
    "            'code1':'' ,\n",
    "            'TYPEK2' :'' ,\n",
    "            'checkbtn' :'' ,\n",
    "            'queryName':'co_id' ,\n",
    "            'inpuType': 'co_id',\n",
    "            'TYPEK': 'all',\n",
    "            'isnew': 'true',\n",
    "            'co_id': co,\n",
    "            'year':'' ,\n",
    "            'month':'' }\n",
    "\n",
    "    resp=requests.post(api_url, form_data)\n",
    "    soup=BeautifulSoup(resp.text, 'lxml')\n"
   ]
  },
  {
   "cell_type": "code",
   "execution_count": 29,
   "metadata": {
    "scrolled": true
   },
   "outputs": [],
   "source": [
    "get_id_data('2303')"
   ]
  },
  {
   "cell_type": "code",
   "execution_count": 37,
   "metadata": {
    "id": "k96_6OGsav_6",
    "scrolled": true
   },
   "outputs": [
    {
     "data": {
      "text/plain": [
       "<html><body><p>var MAR = document.querySelector(\"#marquee\");     if(MAR){         var MARS = document.querySelectorAll(\"#marquee a\");         for(var i=0;i<mars.length if=\"\" mar.parentnode.innerhtml=\"&lt;span style='color:#ff0;'&gt;�����j�M&lt;/span&gt;\" mar.setattribute=\"\" mars=\"\"></mars.length></p></body></html>"
      ]
     },
     "execution_count": 37,
     "metadata": {},
     "output_type": "execute_result"
    }
   ],
   "source": [
    "url='https://mops.twse.com.tw/server-java/AjaxCheck'\n",
    "\n",
    "soup=get_soup(url)\n",
    "\n",
    "soup"
   ]
  },
  {
   "cell_type": "code",
   "execution_count": 38,
   "metadata": {
    "scrolled": true
   },
   "outputs": [
    {
     "name": "stdout",
     "output_type": "stream",
     "text": [
      "2303資料儲存中...\n",
      "2032資料儲存中...\n"
     ]
    },
    {
     "data": {
      "text/plain": [
       "{'2303': None, '2032': None}"
      ]
     },
     "execution_count": 38,
     "metadata": {},
     "output_type": "execute_result"
    }
   ],
   "source": [
    "id_data={}\n",
    "for co in cos:\n",
    "    print(f'{co}資料儲存中...')\n",
    "    id_data[co]=get_id_data(co)\n",
    "    \n",
    "id_data"
   ]
  },
  {
   "cell_type": "code",
   "execution_count": 40,
   "metadata": {
    "scrolled": false
   },
   "outputs": [
    {
     "name": "stdout",
     "output_type": "stream",
     "text": [
      "2303儲存成功！\n",
      "2032儲存成功！\n"
     ]
    }
   ],
   "source": [
    "import pandas as pd\n",
    "for co in cos:\n",
    "    datas = id_data[co]\n",
    "    print(f'{co}儲存成功！')"
   ]
  },
  {
   "cell_type": "code",
   "execution_count": 41,
   "metadata": {},
   "outputs": [
    {
     "data": {
      "text/plain": [
       "False"
      ]
     },
     "execution_count": 41,
     "metadata": {},
     "output_type": "execute_result"
    }
   ],
   "source": [
    "import os\n",
    "path='output/company/'\n",
    "os.path.exists(path)"
   ]
  },
  {
   "cell_type": "code",
   "execution_count": 44,
   "metadata": {},
   "outputs": [
    {
     "name": "stdout",
     "output_type": "stream",
     "text": [
      "2303儲存成功！\n",
      "2032儲存成功！\n"
     ]
    }
   ],
   "source": [
    "for co in cos:\n",
    "    datas = id_data[co]\n",
    "    print(f'{co}儲存成功！')"
   ]
  },
  {
   "cell_type": "code",
   "execution_count": 45,
   "metadata": {},
   "outputs": [],
   "source": [
    "path='output/excel/'\n",
    "if not os.path.exists(path):\n",
    "    os.makedirs(path)"
   ]
  },
  {
   "cell_type": "code",
   "execution_count": 47,
   "metadata": {
    "scrolled": true
   },
   "outputs": [
    {
     "data": {
      "text/plain": [
       "<pandas.io.excel._xlsxwriter.XlsxWriter at 0x261df0b1490>"
      ]
     },
     "execution_count": 47,
     "metadata": {},
     "output_type": "execute_result"
    }
   ],
   "source": [
    "writer=pd.ExcelWriter(f'{path}id_data.xlsx', engine='xlsxwriter')\n",
    "writer"
   ]
  },
  {
   "cell_type": "code",
   "execution_count": 52,
   "metadata": {},
   "outputs": [
    {
     "name": "stdout",
     "output_type": "stream",
     "text": [
      "2303_sheet寫入中!\n",
      "2032_sheet寫入中!\n"
     ]
    }
   ],
   "source": [
    "for co in cos:\n",
    "    datas= id_data[co]\n",
    "    print(f'{co}_sheet寫入中!')\n",
    "writer.close()"
   ]
  },
  {
   "cell_type": "code",
   "execution_count": null,
   "metadata": {},
   "outputs": [],
   "source": []
  },
  {
   "cell_type": "markdown",
   "metadata": {
    "id": "Af8E7QFCbi5R"
   },
   "source": [
    "欄位：公司代號、公司名稱、本月營收金額、增減百分比（本月）、增減百分比（累計）"
   ]
  }
 ],
 "metadata": {
  "colab": {
   "provenance": []
  },
  "kernelspec": {
   "display_name": "Python 3 (ipykernel)",
   "language": "python",
   "name": "python3"
  },
  "language_info": {
   "codemirror_mode": {
    "name": "ipython",
    "version": 3
   },
   "file_extension": ".py",
   "mimetype": "text/x-python",
   "name": "python",
   "nbconvert_exporter": "python",
   "pygments_lexer": "ipython3",
   "version": "3.11.4"
  }
 },
 "nbformat": 4,
 "nbformat_minor": 1
}
